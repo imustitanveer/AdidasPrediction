{
 "cells": [
  {
   "cell_type": "code",
   "execution_count": 21,
   "metadata": {},
   "outputs": [
    {
     "name": "stderr",
     "output_type": "stream",
     "text": [
      "C:\\Users\\Musti Tanvir\\anaconda3\\Lib\\site-packages\\sklearn\\preprocessing\\_encoders.py:972: FutureWarning: `sparse` was renamed to `sparse_output` in version 1.2 and will be removed in 1.4. `sparse_output` is ignored unless you leave `sparse` to its default value.\n",
      "  warnings.warn(\n"
     ]
    }
   ],
   "source": [
    "import pandas as pd\n",
    "from sklearn.model_selection import train_test_split\n",
    "from sklearn.preprocessing import OneHotEncoder\n",
    "from sklearn.ensemble import RandomForestRegressor\n",
    "from sklearn.metrics import mean_squared_error\n",
    "\n",
    "# Load dataset\n",
    "shoe_prices_data = pd.read_csv('C:/Users/Musti Tanvir/PycharmProjects/AdidasPrediction/dataset/Shoe prices.csv')\n",
    "\n",
    "# Convert 'Price (USD)' to numeric\n",
    "shoe_prices_data['Price (USD)'] = shoe_prices_data['Price (USD)'].replace('[\\$,]', '', regex=True).astype(float)\n",
    "\n",
    "# One-hot encode categorical variables\n",
    "encoder = OneHotEncoder(sparse=False)\n",
    "encoded_features = encoder.fit_transform(shoe_prices_data[['Brand', 'Type', 'Gender', 'Material']])\n",
    "encoded_df = pd.DataFrame(encoded_features, columns=encoder.get_feature_names_out())\n",
    "\n",
    "# Combine encoded features with price\n",
    "final_data = pd.concat([encoded_df, shoe_prices_data['Price (USD)']], axis=1)\n"
   ]
  },
  {
   "cell_type": "code",
   "execution_count": 22,
   "metadata": {},
   "outputs": [],
   "source": [
    "# Define features and target\n",
    "X = final_data.drop('Price (USD)', axis=1)\n",
    "y = final_data['Price (USD)']\n",
    "\n",
    "# Split the dataset\n",
    "X_train, X_test, y_train, y_test = train_test_split(X, y, test_size=0.3, random_state=42)\n"
   ]
  },
  {
   "cell_type": "code",
   "execution_count": 23,
   "metadata": {},
   "outputs": [
    {
     "name": "stdout",
     "output_type": "stream",
     "text": [
      "RMSE: 19.675373859799166\n"
     ]
    }
   ],
   "source": [
    "# Initialize and train the model\n",
    "model = RandomForestRegressor(n_estimators=100, random_state=42)\n",
    "model.fit(X_train, y_train)\n",
    "\n",
    "# Predictions\n",
    "y_pred = model.predict(X_test)\n",
    "\n",
    "# Calculate RMSE\n",
    "rmse = mean_squared_error(y_test, y_pred, squared=False)\n",
    "print(f'RMSE: {rmse}')\n"
   ]
  },
  {
   "cell_type": "code",
   "execution_count": 24,
   "metadata": {},
   "outputs": [
    {
     "name": "stdout",
     "output_type": "stream",
     "text": [
      "Type_Running                     0.290456\n",
      "Material_Primeknit               0.227638\n",
      "Brand_Skechers                   0.054500\n",
      "Type_Casual                      0.051050\n",
      "Brand_Reebok                     0.049615\n",
      "                                   ...   \n",
      "Material_Flexweave/Knit          0.000000\n",
      "Material_Flexweave/Cushioning    0.000000\n",
      "Material_Flexweave               0.000000\n",
      "Type_Racing                      0.000000\n",
      "Material_Textile/Leather         0.000000\n",
      "Length: 64, dtype: float64\n"
     ]
    }
   ],
   "source": [
    "# Feature importances\n",
    "importances = model.feature_importances_\n",
    "feature_names = X.columns\n",
    "feature_importances = pd.Series(importances, index=feature_names)\n",
    "print(feature_importances.sort_values(ascending=False))\n"
   ]
  },
  {
   "cell_type": "code",
   "execution_count": 25,
   "metadata": {},
   "outputs": [
    {
     "name": "stdout",
     "output_type": "stream",
     "text": [
      "              Type  Price (USD)        Brand           Material\n",
      "0       Basketball   112.692308         Puma            Leather\n",
      "1           Casual    79.938230     Converse             Canvas\n",
      "2   Cross-training   130.000000       Reebok     Mesh/Synthetic\n",
      "3         CrossFit   130.000000       Reebok               Mesh\n",
      "4         Crossfit   130.000000       Reebok               Mesh\n",
      "5          Fashion    83.895349         Fila  Leather/Synthetic\n",
      "6           Hiking    77.500000         Fila  Leather/Synthetic\n",
      "7        Lifestyle   122.828947       Adidas          Primeknit\n",
      "8           Racing   110.000000  New Balance               Mesh\n",
      "9            Retro    90.000000       Reebok         Suede/Mesh\n",
      "10         Running   129.081325        Asics               Mesh\n",
      "11           Skate    62.200000         Vans             Canvas\n",
      "12          Slides    31.666667       Adidas          Synthetic\n",
      "13           Trail    99.166667        Asics               Mesh\n",
      "14   Trail Running   113.333333  New Balance     Synthetic/Mesh\n",
      "15        Training   110.294118       Reebok               Mesh\n",
      "16         Walking    64.978043     Skechers               Mesh\n",
      "17   Weightlifting   187.500000       Reebok            Leather\n"
     ]
    }
   ],
   "source": [
    "import pandas as pd\n",
    "\n",
    "# Convert 'Price (USD)' to numeric\n",
    "shoe_prices_data['Price (USD)'] = shoe_prices_data['Price (USD)'].replace('[\\$,]', '', regex=True).astype(float)\n",
    "\n",
    "# Aggregate data by Type\n",
    "type_aggregated = shoe_prices_data.groupby('Type').agg({\n",
    "    'Price (USD)': 'mean',\n",
    "    'Brand': lambda x: x.value_counts().idxmax(),\n",
    "    'Material': lambda x: x.value_counts().idxmax()\n",
    "}).reset_index()\n",
    "\n",
    "# Display the results\n",
    "print(type_aggregated)\n"
   ]
  }
 ],
 "metadata": {
  "kernelspec": {
   "display_name": "Python 3 (ipykernel)",
   "language": "python",
   "name": "python3"
  },
  "language_info": {
   "codemirror_mode": {
    "name": "ipython",
    "version": 3
   },
   "file_extension": ".py",
   "mimetype": "text/x-python",
   "name": "python",
   "nbconvert_exporter": "python",
   "pygments_lexer": "ipython3",
   "version": "3.11.5"
  }
 },
 "nbformat": 4,
 "nbformat_minor": 2
}
